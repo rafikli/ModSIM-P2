{
 "cells": [
  {
   "cell_type": "markdown",
   "metadata": {},
   "source": [
    "# Implementação P2 de ModSim"
   ]
  },
  {
   "cell_type": "markdown",
   "metadata": {},
   "source": [
    "## Equações e fórmulas\n",
    "\n",
    "\n",
    "\n",
    "\n",
    "\n",
    "\n"
   ]
  },
  {
   "cell_type": "code",
   "execution_count": 98,
   "metadata": {},
   "outputs": [],
   "source": [
    "\n",
    "#densidade do ar 1 atm 25C kg·m−3\n",
    "den_ar=1.1839\n",
    "##volume de ar interno m3\n",
    "v_ar= 4\n",
    "#massa de ar interno\n",
    "m_ar=den_ar*v_ar\n",
    "## calor especifico do ar\n",
    "\n",
    "#calor específico à pressão constante do ar, cp = 1,0048 kJ/kgoC ##\n",
    "#calor específico a volume constante do ar, cv = 0,717 kJ/kgoC\n",
    "\n",
    "c_ar=1.0048*1000\n",
    "#temperatura ambiente externa\n",
    "T_ext=35+273.15\n",
    "#espessura da lataria\n",
    "d = 0.05\n",
    "#área de contato da lataria com o ar interno\n",
    "#de modo que devemos considerar, nessa porção, tanto a área interna quanto a externa. Estamos desprezando a área devida\n",
    "#à espessura\n",
    "a_frontal = 1.3*1.3\n",
    "a_laterais = (3.3*1.3)*2\n",
    "a_traseira = 1.5*0.5\n",
    "a_piso = 3.3*1.5\n",
    "a_teto = 3.3*1.5\n",
    "a_tot = (a_frontal + a_laterais + a_traseira + a_piso + a_teto)\n",
    "#condutividade térmica do aço --> 80W/mk\n",
    "k=80\n",
    "#coeficiente de transferência convectiva do ar --> 10W/m2k\n",
    "h = 10\n",
    "#potência termica do ar condicionado\n",
    "Q_ac = 6000\n",
    "\n",
    "#Q_ar_Ext = convecçao + conduçao\n",
    "#conveção = = ℎ ⋅ 𝐴 ⋅ Δ𝑇\n",
    "#condução = = (𝑘 ⋅ 𝐴 ⋅ Δ𝑇) / 𝑑\n",
    "\n",
    "\n",
    "\n",
    "\n",
    "\n",
    "\n",
    "\n",
    "\n",
    "def EqDif(LisSol,t):\n",
    "    T_int = LisSol[0]\n",
    "    dTdt = (1/(m_ar*c_ar)) * (((T_ext-T_int) / ((1/(h * a_tot)) + (d/(k * a_tot))))-Q_ac)\n",
    "    return dTdt\n",
    "\n",
    "\n",
    "\n",
    "\n",
    "\n",
    "\n",
    "\n",
    "\n"
   ]
  },
  {
   "cell_type": "code",
   "execution_count": 99,
   "metadata": {},
   "outputs": [
    {
     "data": {
      "image/png": "[encoded data removed]",
      "text/plain": [
       "<matplotlib.figure.Figure at 0x2b390e3f748>"
      ]
     },
     "metadata": {},
     "output_type": "display_data"
    }
   ],
   "source": [
    "import numpy as np\n",
    "import matplotlib.pyplot as plt\n",
    "from scipy.integrate import odeint\n",
    "CI = [30+273.15]\n",
    "delta_t = 0.001\n",
    "ListaT = np.arange(0,100,delta_t)\n",
    "solucao = odeint(EqDif,CI,ListaT)\n",
    "plt.plot(ListaT,solucao[:,0])\n",
    "plt.show()\n",
    "\n"
   ]
  },
  {
   "cell_type": "code",
   "execution_count": null,
   "metadata": {},
   "outputs": [],
   "source": []
  }
 ],
 "metadata": {
  "kernelspec": {
   "display_name": "Python 3",
   "language": "python",
   "name": "python3"
  },
  "language_info": {
   "codemirror_mode": {
    "name": "ipython",
    "version": 3
   },
   "file_extension": ".py",
   "mimetype": "text/x-python",
   "name": "python",
   "nbconvert_exporter": "python",
   "pygments_lexer": "ipython3",
   "version": "3.6.4"
  }
 },
 "nbformat": 4,
 "nbformat_minor": 2
}
